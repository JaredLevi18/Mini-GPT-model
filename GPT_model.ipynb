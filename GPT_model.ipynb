{
  "cells": [
    {
      "cell_type": "code",
      "execution_count": 54,
      "metadata": {
        "id": "X4iuj4F58JbY"
      },
      "outputs": [],
      "source": [
        "import torch\n",
        "import torch.nn as nn\n",
        "import torch.nn.functional as F\n",
        "# hello world"
      ]
    },
    {
      "cell_type": "code",
      "execution_count": 55,
      "metadata": {
        "id": "1ZSoX7nV8Jbi"
      },
      "outputs": [],
      "source": [
        "with open('input.txt', 'r', encoding='utf-8') as f:\n",
        "    text = f.read()"
      ]
    },
    {
      "cell_type": "code",
      "execution_count": 56,
      "metadata": {
        "id": "HW-7E-ix8Jbj"
      },
      "outputs": [],
      "source": [
        "# hyperparameters\n",
        "block_size = 8\n",
        "batch_size = 300\n",
        "lr = 3e-4\n",
        "num_iter = 20000 #20000\n",
        "eval_intervsl = 500\n",
        "device = 'cuda' if torch.cuda.is_available() else 'cpu'\n",
        "eval_iters = 200\n",
        "n_embd = 110\n",
        "n_heads = 12\n",
        "n_layers = 12\n",
        "dropout = 0.2"
      ]
    },
    {
      "cell_type": "code",
      "execution_count": 57,
      "metadata": {
        "id": "Mq7RJ3T78Jbl"
      },
      "outputs": [],
      "source": [
        "torch.manual_seed(1269)\n",
        "\n",
        "# getting the vocabulary\n",
        "chars = sorted(list(set(text)))\n",
        "vocab_size = len(chars)\n",
        "stoi = {s:i for i,s in enumerate(chars)}\n",
        "itos = {i:s for i,s in enumerate(chars)}\n",
        "\n",
        "encode = lambda s: [stoi[h] for h in s]            # encoder: take a string, output a list of integers\n",
        "decode = lambda l: ''.join([itos[j] for j in l])   # decoder: take a list of integers, output a string\n",
        "\n",
        "# train and test split\n",
        "data = torch.tensor(encode(text), dtype=torch.long, device=device)\n",
        "n = int(0.9 * len(data))\n",
        "train = data[:n]  # 90% of data\n",
        "val = data[n:]    # 10% of data"
      ]
    },
    {
      "cell_type": "code",
      "execution_count": 58,
      "metadata": {
        "id": "00h3t7g58Jbo"
      },
      "outputs": [],
      "source": [
        "# getting batches of data\n",
        "def get_batch(split):\n",
        "    data = train if split == 'train' else val\n",
        "    ix =  torch.randint(len(data) - block_size, (batch_size,)) # getting random batches from the data.\n",
        "    x = torch.stack([data[i: i+ block_size] for i in ix])\n",
        "    y = torch.stack([data[j+1: j+block_size+1] for j in ix])\n",
        "    x,y = x.to(device), y.to(device)\n",
        "    return x, y"
      ]
    },
    {
      "cell_type": "code",
      "execution_count": 59,
      "metadata": {
        "id": "6n0EIZoh8Jbq"
      },
      "outputs": [],
      "source": [
        "class Head(nn.Module):\n",
        "    '''one head of self-attention.'''\n",
        "    def __init__(self, head_size) -> None:\n",
        "        super().__init__()\n",
        "        self.query = nn.Linear( n_embd, head_size ,bias=False ,device=device)\n",
        "        self.key = nn.Linear(n_embd, head_size, bias=False, device=device)\n",
        "        self.value = nn.Linear(n_embd, head_size, bias=False, device=device)\n",
        "        self.register_buffer('tril', torch.tril(torch.ones(block_size, block_size)))\n",
        "        self.dropout = nn.Dropout(dropout)\n",
        "\n",
        "    def forward(self, x):\n",
        "        # input of size: (batch_size, time-step, channel)\n",
        "        # output of size: (batch_size, time-step, head-size)\n",
        "        B,T,C = x.shape\n",
        "        k  = self.key(x) # (B,T,head_size)\n",
        "        q = self.query(x) # (B,T,head_size)\n",
        "        wei = q @ k.transpose(-2, -1) * k.shape[-1]**-0.5 # (B, T, hs) @ (B, hs, T) -> (B, T, T)\n",
        "        wei = wei.masked_fill(self.tril[:T, :T] == 0, float('-inf'))  # (B,T,T)\n",
        "        wei = F.softmax(wei, dim=1)\n",
        "        wei = F.dropout(wei)\n",
        "        v = self.value(x)\n",
        "        out = wei @ v # (B, T, T) @ (B, T, head_size) -> (B, T, head_size)\n",
        "        return out\n",
        "    \n",
        "class MultiHeadAttention(nn.Module):\n",
        "    '''Multiple heads of self-attention running in parallel.'''\n",
        "    def __init__(self, n_heads, head_size) -> None:\n",
        "        super().__init__()\n",
        "        self.heads = nn.ModuleList([Head(head_size) for _ in range(n_heads)])\n",
        "        self.projection = nn.Linear(head_size * n_heads, n_embd)\n",
        "        self.dropout = nn.Dropout(dropout)\n",
        "\n",
        "    def forward(self, x):\n",
        "        out = torch.cat([h(x) for h in self.heads], dim=-1)\n",
        "        out = self.dropout(self.projection(out))\n",
        "        return out\n",
        "    \n",
        "class FeeedForward(nn.Module):\n",
        "    '''A simple linear layer followed by a non-linearity'''\n",
        "    def __init__(self, n_embd) -> None:\n",
        "        super().__init__()\n",
        "        self.net = nn.Sequential(\n",
        "            nn.Linear(n_embd, 4 * n_embd),\n",
        "            nn.ReLU(),\n",
        "            nn.Linear(4 * n_embd, n_embd),\n",
        "            nn.Dropout(dropout),\n",
        "        )\n",
        "    \n",
        "    def forward(self, x):\n",
        "        return self.net(x)\n",
        "    \n",
        "class Block(nn.Module):\n",
        "    '''Transformer block: comunication followed by computation'''\n",
        "    def __init__(self, n_embd, n_heads) -> None:\n",
        "        super().__init__()\n",
        "        # n_embd: embeddings dimension, n_heads: number of heads we want\n",
        "        head_size = n_embd // n_heads\n",
        "        self.sa = MultiHeadAttention(n_heads, head_size)\n",
        "        self.feedforward = FeeedForward(n_embd)\n",
        "        self.ln1 = nn.LayerNorm( n_embd,device=device)\n",
        "        self.ln2 = nn.LayerNorm(n_embd, device=device)\n",
        "\n",
        "    def forward(self, x):\n",
        "        x = x + self.sa(self.ln1(x))\n",
        "        x = x + self.feedforward(self.ln2(x))\n",
        "        return x\n",
        "    \n",
        "class GPTLanguageModel(nn.Module):\n",
        "    def __init__(self) -> None:\n",
        "        super().__init__()\n",
        "        # each token directly reads off the logits for the next token from a look up table\n",
        "        self.token_reading_table = nn.Embedding(vocab_size, n_embd)\n",
        "        self.position_embedding_table = nn.Embedding( block_size,n_embd)\n",
        "        self.blocks = nn.Sequential(*[Block(n_embd, n_heads=n_heads) for _ in range (n_layers)])\n",
        "        self.ln_f = nn.LayerNorm(n_embd) # last layer norm\n",
        "        self.lm_f = nn.Linear(n_embd, vocab_size)\n",
        "        self.apply(self._init_weights)\n",
        "\n",
        "    def _init_weights(self, module):\n",
        "        if isinstance(module, nn.Linear):\n",
        "            torch.nn.init.normal_(module.weight, mean=0.0, std=0.02)\n",
        "            if module.bias is not None:\n",
        "                  torch.nn.init.zeros_(module.bias)\n",
        "        elif isinstance(module, nn.Embedding):\n",
        "            torch.nn.init.normal_(module.weight, mean=0.0, std=0.02)\n",
        "\n",
        "    def forward(self, idx, targets=None):\n",
        "        B,T = idx.shape\n",
        "        #idx and targets are both (B,T) tensors of integers\n",
        "        token_embd = self.token_reading_table(idx)  # (B,T,C)\n",
        "        position_embd = self.position_embedding_table(torch.arange(T, device=device))  # (T,c)\n",
        "        x = position_embd + token_embd # (B,T,C)\n",
        "        x = self.blocks(x)             # (B,T,C)\n",
        "        x = self.ln_f(x)               # (B,T,C)\n",
        "        logits = self.lm_f(x)          # (B,T,vocab_size)\n",
        "        if targets is None:\n",
        "            loss = None\n",
        "        else:\n",
        "            B,T,C = logits.shape\n",
        "            logits = logits.view(B*T, C)\n",
        "            targets = targets.view(B*T)\n",
        "            loss = F.cross_entropy(logits, targets)\n",
        "        return logits, loss\n",
        "\n",
        "    def generate(self, idx, max_new_tokens):\n",
        "        # idx is (B,T) array of indices in the current context\n",
        "        for _ in range(max_new_tokens):\n",
        "            # crop idx to the last token from block_size\n",
        "            idx_crop = idx[:, -block_size:]\n",
        "            # get the predictions\n",
        "            logits, loss = self(idx_crop)\n",
        "            # focus only on the last time step\n",
        "            logits = logits[:, -1, :] # becomes (B,C)\n",
        "            # apply softmax to get probabilities\n",
        "            probs = F.softmax(logits, dim=-1)\n",
        "            # sampe from the distribution\n",
        "            sample = torch.multinomial(probs, num_samples=1) # (B,1)\n",
        "            # append sample index to the running sequence\n",
        "            idx = torch.cat((idx, sample), dim=1)  # (B, T+1)\n",
        "        return idx\n"
      ]
    },
    {
      "cell_type": "code",
      "execution_count": 60,
      "metadata": {
        "colab": {
          "base_uri": "https://localhost:8080/"
        },
        "id": "ZiW7GzFu8Jb3",
        "outputId": "42814ab4-aa78-4547-a5fa-eaa55a8dc810"
      },
      "outputs": [
        {
          "name": "stdout",
          "output_type": "stream",
          "text": [
            "1760505 parameters\n"
          ]
        }
      ],
      "source": [
        "model = GPTLanguageModel()\n",
        "m = model.to(device)\n",
        "#print the number of parameters in total\n",
        "print(sum(p.numel() for p in m.parameters()), 'parameters')\n",
        "#create a pytorch optimizer\n",
        "optimizer = torch.optim.AdamW(model.parameters() ,lr=lr)"
      ]
    },
    {
      "cell_type": "code",
      "execution_count": 61,
      "metadata": {
        "id": "d72paqTc8Jb9"
      },
      "outputs": [],
      "source": [
        "@torch.no_grad()\n",
        "def estimate_loss():\n",
        "    out = {}\n",
        "    model.eval()\n",
        "    for split in ['train', 'val']:\n",
        "        losses = torch.zeros(eval_iters)\n",
        "        for k in range(eval_iters):\n",
        "            X, Y = get_batch(split)\n",
        "            logits, loss = model(X, Y)\n",
        "            losses[k] = loss.item()\n",
        "        out[split] = losses.mean()\n",
        "    model.train()\n",
        "    return out"
      ]
    },
    {
      "cell_type": "code",
      "execution_count": 62,
      "metadata": {
        "colab": {
          "base_uri": "https://localhost:8080/"
        },
        "id": "h3vbEsop8Jb_",
        "outputId": "41a6f148-1a94-4b1a-d67a-ac0f73399543"
      },
      "outputs": [
        {
          "name": "stdout",
          "output_type": "stream",
          "text": [
            "step 0: train loss 4.2020, vali loss 4.2000\n",
            "step 500: train loss 0.5764, vali loss 0.5920\n",
            "step 1000: train loss 0.3549, vali loss 0.3658\n",
            "step 1500: train loss 0.3048, vali loss 0.3138\n",
            "step 2000: train loss 0.2828, vali loss 0.2908\n",
            "step 2500: train loss 0.2703, vali loss 0.2804\n",
            "step 3000: train loss 0.2617, vali loss 0.2734\n",
            "step 3500: train loss 0.2567, vali loss 0.2694\n",
            "step 4000: train loss 0.2531, vali loss 0.2650\n",
            "step 4500: train loss 0.2500, vali loss 0.2627\n",
            "step 5000: train loss 0.2444, vali loss 0.2601\n",
            "step 5500: train loss 0.2424, vali loss 0.2567\n",
            "step 6000: train loss 0.2375, vali loss 0.2549\n",
            "step 6500: train loss 0.2366, vali loss 0.2520\n",
            "step 7000: train loss 0.2338, vali loss 0.2490\n",
            "step 7500: train loss 0.2318, vali loss 0.2495\n",
            "step 8000: train loss 0.2296, vali loss 0.2490\n",
            "step 8500: train loss 0.2261, vali loss 0.2451\n",
            "step 9000: train loss 0.2273, vali loss 0.2457\n",
            "step 9500: train loss 0.2263, vali loss 0.2439\n",
            "step 10000: train loss 0.2216, vali loss 0.2442\n",
            "step 10500: train loss 0.2207, vali loss 0.2401\n",
            "step 11000: train loss 0.2216, vali loss 0.2415\n",
            "step 11500: train loss 0.2185, vali loss 0.2374\n",
            "step 12000: train loss 0.2179, vali loss 0.2385\n",
            "step 12500: train loss 0.2175, vali loss 0.2380\n",
            "step 13000: train loss 0.2162, vali loss 0.2369\n",
            "step 13500: train loss 0.2139, vali loss 0.2387\n",
            "step 14000: train loss 0.2131, vali loss 0.2340\n",
            "step 14500: train loss 0.2120, vali loss 0.2345\n",
            "step 15000: train loss 0.2098, vali loss 0.2347\n",
            "step 15500: train loss 0.2101, vali loss 0.2341\n",
            "step 16000: train loss 0.2108, vali loss 0.2336\n",
            "step 16500: train loss 0.2075, vali loss 0.2312\n",
            "step 17000: train loss 0.2081, vali loss 0.2308\n",
            "step 17500: train loss 0.2078, vali loss 0.2303\n",
            "step 18000: train loss 0.2047, vali loss 0.2288\n",
            "step 18500: train loss 0.2070, vali loss 0.2301\n",
            "step 19000: train loss 0.2052, vali loss 0.2302\n",
            "step 19500: train loss 0.2039, vali loss 0.2285\n",
            "step 19999: train loss 0.2037, vali loss 0.2284\n"
          ]
        }
      ],
      "source": [
        "for iter in range(num_iter):\n",
        "    # every once in a while evaluate the loss on train and val sets\n",
        "    if iter % eval_intervsl == 0 or iter == num_iter - 1:\n",
        "        losses = estimate_loss()\n",
        "        print(f'step {iter}: train loss {losses[\"train\"]:.4f}, vali loss {losses[\"val\"]:.4f}')\n",
        "    # sample a batch from the data\n",
        "    xb, yb = get_batch('train')\n",
        "    # evaluate the loss\n",
        "    logits, loss = model(xb, yb)\n",
        "    optimizer.zero_grad(set_to_none=True)\n",
        "    loss.backward()\n",
        "    optimizer.step()"
      ]
    },
    {
      "cell_type": "code",
      "execution_count": 63,
      "metadata": {
        "colab": {
          "base_uri": "https://localhost:8080/"
        },
        "id": "-s7XU7mJ8JcA",
        "outputId": "6d477105-9bf5-4146-979e-92522f69fe4f"
      },
      "outputs": [
        {
          "name": "stdout",
          "output_type": "stream",
          "text": [
            "\n",
            "     try joy home lears;\n",
            "Had me in those biding new'tck\n",
            "This should, but on;\n",
            "For to beforrow\n",
            "Am his Evend, thought the ord us.\n",
            "\n",
            "AELO:\n",
            "For mo that prusons of madain alooks and Youl mortorouge, that? butefure!\n",
            "York what I midembles a bove resumench' metham.\n",
            "\n",
            "KING HENRY our dAance:\n",
            "What is it rine, broth, though dree gulge him Edward now in a bediens; veepine.\n",
            "It he wors.\n",
            "But put this? for blood fair hoad:\n",
            "Their should conston juson, if another: I bany wars;\n",
            "I pretter the hout brother it it again! mink o' jurtive which though\n",
            "To grace,\n",
            "They gal.\n",
            "\n",
            "WISTANLES:\n",
            "This surt seemanant of as fawty soith ha, softer! Mayful quist him dot to doomon,\n",
            "Shold, I am daught!\n",
            "What mattiony's thy dest him.\n",
            "Do him, pertenters, so.\n",
            "\n",
            "PLOKENT:\n",
            "Prayins of I was, if water?\n",
            "\n",
            "ANTIUS:\n",
            "Consure to his was three?\n",
            "Gives, nothing this shord as common,\n",
            "So the good a seat stive thou done amasted you, which it.\n",
            "\n",
            "GLOUCES:\n",
            "Soul are her every him like but, stroasol,\n",
            "I know I'll us that strown.\n",
            "\n",
            "LYORK:\n",
            "To Holden. I bake he woran\n"
          ]
        }
      ],
      "source": [
        "# generate from the model\n",
        "context = torch.zeros((1,1), dtype=torch.long, device=device)\n",
        "print(decode(m.generate(context, max_new_tokens=1000)[0].tolist()))"
      ]
    }
  ],
  "metadata": {
    "accelerator": "GPU",
    "colab": {
      "gpuType": "T4",
      "provenance": []
    },
    "gpuClass": "standard",
    "kernelspec": {
      "display_name": "base",
      "language": "python",
      "name": "python3"
    },
    "language_info": {
      "codemirror_mode": {
        "name": "ipython",
        "version": 3
      },
      "file_extension": ".py",
      "mimetype": "text/x-python",
      "name": "python",
      "nbconvert_exporter": "python",
      "pygments_lexer": "ipython3",
      "version": "3.9.13"
    },
    "orig_nbformat": 4
  },
  "nbformat": 4,
  "nbformat_minor": 0
}
